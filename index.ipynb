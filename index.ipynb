{
 "cells": [
  {
   "cell_type": "markdown",
   "metadata": {},
   "source": [
    "# Regression Model Validation - Lab\n",
    "\n",
    "## Introduction\n",
    "\n",
    "In this lab, you'll be able to validate your Boston Housing data model using train-test split.\n",
    "\n",
    "\n",
    "## Objectives\n",
    "\n",
    "You will be able to:\n",
    "\n",
    "- Compare training and testing errors to determine if model is over or underfitting\n"
   ]
  },
  {
   "cell_type": "markdown",
   "metadata": {},
   "source": [
    "## Let's use our Boston Housing Data again!\n",
    "\n",
    "This time, let's only include the variables that were previously selected using recursive feature elimination. We included the code to preprocess below."
   ]
  },
  {
   "cell_type": "code",
   "execution_count": 4,
   "metadata": {},
   "outputs": [],
   "source": [
    "import pandas as pd\n",
    "import numpy as np\n",
    "import matplotlib.pyplot as plt\n",
    "%matplotlib inline\n",
    "from sklearn.datasets import load_boston\n",
    "\n",
    "boston = load_boston()\n",
    "\n",
    "boston_features = pd.DataFrame(boston.data, columns = boston.feature_names)\n",
    "b = boston_features['B']\n",
    "logdis = np.log(boston_features['DIS'])\n",
    "loglstat = np.log(boston_features['LSTAT'])\n",
    "\n",
    "# Min-Max scaling\n",
    "boston_features['B'] = (b-min(b))/(max(b)-min(b))\n",
    "boston_features['DIS'] = (logdis-min(logdis))/(max(logdis)-min(logdis))\n",
    "\n",
    "# Standardization\n",
    "boston_features['LSTAT'] = (loglstat-np.mean(loglstat))/np.sqrt(np.var(loglstat))"
   ]
  },
  {
   "cell_type": "code",
   "execution_count": 5,
   "metadata": {},
   "outputs": [],
   "source": [
    "X = boston_features[['CHAS', 'RM', 'DIS', 'B', 'LSTAT']]\n",
    "y = pd.DataFrame(boston.target, columns = ['target'])"
   ]
  },
  {
   "cell_type": "code",
   "execution_count": 7,
   "metadata": {},
   "outputs": [
    {
     "data": {
      "text/plain": [
       "(     CHAS     RM       DIS         B     LSTAT\n",
       " 0     0.0  6.575  0.542096  1.000000 -1.275260\n",
       " 1     0.0  6.421  0.623954  1.000000 -0.263711\n",
       " 2     0.0  7.185  0.623954  0.989737 -1.627858\n",
       " 3     0.0  6.998  0.707895  0.994276 -2.153192\n",
       " 4     0.0  7.147  0.707895  1.000000 -1.162114\n",
       " ..    ...    ...       ...       ...       ...\n",
       " 501   0.0  6.593  0.331081  0.987619 -0.169811\n",
       " 502   0.0  6.120  0.297277  1.000000 -0.274682\n",
       " 503   0.0  6.976  0.274575  1.000000 -1.067939\n",
       " 504   0.0  6.794  0.315551  0.991301 -0.836660\n",
       " 505   0.0  6.030  0.335545  1.000000 -0.510809\n",
       " \n",
       " [506 rows x 5 columns],      target\n",
       " 0      24.0\n",
       " 1      21.6\n",
       " 2      34.7\n",
       " 3      33.4\n",
       " 4      36.2\n",
       " ..      ...\n",
       " 501    22.4\n",
       " 502    20.6\n",
       " 503    23.9\n",
       " 504    22.0\n",
       " 505    11.9\n",
       " \n",
       " [506 rows x 1 columns])"
      ]
     },
     "execution_count": 7,
     "metadata": {},
     "output_type": "execute_result"
    }
   ],
   "source": [
    "X,y"
   ]
  },
  {
   "cell_type": "markdown",
   "metadata": {},
   "source": [
    "### Perform a train-test split"
   ]
  },
  {
   "cell_type": "code",
   "execution_count": 21,
   "metadata": {},
   "outputs": [
    {
     "data": {
      "text/plain": [
       "((404, 5), (102, 5), (404, 1), (102, 1), 0.2015810276679842)"
      ]
     },
     "execution_count": 21,
     "metadata": {},
     "output_type": "execute_result"
    }
   ],
   "source": [
    "# Split the data into training and test sets. Use the default split size\n",
    "from sklearn.model_selection import train_test_split\n",
    "X_train,X_test,y_train,y_test = train_test_split(X,y,test_size=0.20,random_state=57)\n",
    "X_train.shape,X_test.shape,y_train.shape,y_test.shape,(X_test.shape[0]/(X_test.shape[0]+X_train.shape[0]))"
   ]
  },
  {
   "cell_type": "markdown",
   "metadata": {},
   "source": [
    "### Apply your model to the train set"
   ]
  },
  {
   "cell_type": "code",
   "execution_count": 22,
   "metadata": {},
   "outputs": [],
   "source": [
    "# Importing and initialize the linear regression model class\n"
   ]
  },
  {
   "cell_type": "code",
   "execution_count": 23,
   "metadata": {},
   "outputs": [
    {
     "name": "stdout",
     "output_type": "stream",
     "text": [
      "[[ 2.76598058  3.42495953 -6.5200886   4.1019562  -6.24174566]]\n",
      "[-0.05792505]\n"
     ]
    }
   ],
   "source": [
    "# Fit the model to train data\n",
    "from sklearn.linear_model import LinearRegression  # linear regression \n",
    "linreg = LinearRegression()\n",
    "\n",
    "model = linreg.fit(X_train,y_train)\n",
    "print(model.coef_)\n",
    "print(model.intercept_)\n"
   ]
  },
  {
   "cell_type": "code",
   "execution_count": 24,
   "metadata": {},
   "outputs": [
    {
     "name": "stdout",
     "output_type": "stream",
     "text": [
      "[[ 2.76598058  3.42495953 -6.5200886   4.1019562  -6.24174566]]\n",
      "[-0.05792505]\n"
     ]
    }
   ],
   "source": [
    "linreg.fit(X_train,y_train)\n",
    "print(linreg.coef_)\n",
    "print(linreg.intercept_)"
   ]
  },
  {
   "cell_type": "markdown",
   "metadata": {},
   "source": [
    "### Calculate predictions on training and test sets"
   ]
  },
  {
   "cell_type": "code",
   "execution_count": 25,
   "metadata": {},
   "outputs": [
    {
     "data": {
      "text/plain": [
       "((404, 1), (102, 1))"
      ]
     },
     "execution_count": 25,
     "metadata": {},
     "output_type": "execute_result"
    }
   ],
   "source": [
    "# Calculate predictions on training and test sets\n",
    "y_hat_train = model.predict(X_train)\n",
    "y_hat_test = model.predict(X_test)\n",
    "y_hat_train.shape,y_hat_test.shape"
   ]
  },
  {
   "cell_type": "markdown",
   "metadata": {},
   "source": [
    "### Calculate training and test residuals"
   ]
  },
  {
   "cell_type": "code",
   "execution_count": 45,
   "metadata": {},
   "outputs": [
    {
     "data": {
      "image/png": "[encoded data removed]",
      "text/plain": [
       "<Figure size 576x360 with 1 Axes>"
      ]
     },
     "metadata": {
      "needs_background": "light"
     },
     "output_type": "display_data"
    }
   ],
   "source": [
    "# Calculate residuals\n",
    "res_train = y_train-y_hat_train\n",
    "res_test = y_test-y_hat_test\n",
    "import seaborn as sns\n",
    "import matplotlib.pyplot as plt\n",
    "plt.figure(figsize=(8,5))\n",
    "sns.distplot(res_train,label= 'residuals for training set')\n",
    "sns.distplot(res_test,label= 'residuals for test set')\n",
    "plt.legend()\n",
    "plt.show();"
   ]
  },
  {
   "cell_type": "markdown",
   "metadata": {},
   "source": [
    "### Calculate the Mean Squared Error (MSE)\n",
    "\n",
    "A good way to compare overall performance is to compare the mean squarred error for the predicted values on the training and test sets."
   ]
  },
  {
   "cell_type": "code",
   "execution_count": 34,
   "metadata": {},
   "outputs": [
    {
     "data": {
      "text/plain": [
       "(pandas.core.frame.DataFrame, (404, 1), 404)"
      ]
     },
     "execution_count": 34,
     "metadata": {},
     "output_type": "execute_result"
    }
   ],
   "source": [
    "type(res_train),res_train.shape,len(res_train)\n"
   ]
  },
  {
   "cell_type": "code",
   "execution_count": 32,
   "metadata": {},
   "outputs": [
    {
     "data": {
      "text/plain": [
       "(        target\n",
       " 82   -1.374066\n",
       " 261  11.103004\n",
       " 399  -5.697839\n",
       " 55    3.824295\n",
       " 319   1.299592\n",
       " ..         ...\n",
       " 79   -1.746644\n",
       " 406   2.176897\n",
       " 5    -0.212622\n",
       " 214  15.345627\n",
       " 463  -4.037513\n",
       " \n",
       " [404 rows x 1 columns],          target\n",
       " 82     1.888057\n",
       " 261  123.276697\n",
       " 399   32.465373\n",
       " 55    14.625229\n",
       " 319    1.688939\n",
       " ..          ...\n",
       " 79     3.050766\n",
       " 406    4.738881\n",
       " 5      0.045208\n",
       " 214  235.488259\n",
       " 463   16.301515\n",
       " \n",
       " [404 rows x 1 columns])"
      ]
     },
     "execution_count": 32,
     "metadata": {},
     "output_type": "execute_result"
    }
   ],
   "source": [
    "res_train,res_train**2"
   ]
  },
  {
   "cell_type": "code",
   "execution_count": 38,
   "metadata": {},
   "outputs": [
    {
     "data": {
      "text/plain": [
       "(target    21.577735\n",
       " dtype: float64, target    22.334711\n",
       " dtype: float64)"
      ]
     },
     "execution_count": 38,
     "metadata": {},
     "output_type": "execute_result"
    }
   ],
   "source": [
    "# mean square errors\n",
    "mse_train = (np.sum(res_train**2)) / (len(res_train))\n",
    "mse_test = (np.sum(res_test**2)) / (len(res_test))\n",
    "mse_train,mse_test"
   ]
  },
  {
   "cell_type": "code",
   "execution_count": 59,
   "metadata": {},
   "outputs": [
    {
     "data": {
      "text/plain": [
       "(21.57773528645344, 22.334710521145507)"
      ]
     },
     "execution_count": 59,
     "metadata": {},
     "output_type": "execute_result"
    }
   ],
   "source": [
    "# Import mean_squared_error from sklearn.metrics\n",
    "from sklearn.metrics import mean_squared_error\n",
    "train_mse = mean_squared_error(y_train,y_hat_train)\n",
    "test_mse = mean_squared_error(y_test,y_hat_test)\n",
    "train_mse,test_mse"
   ]
  },
  {
   "cell_type": "code",
   "execution_count": null,
   "metadata": {},
   "outputs": [],
   "source": [
    "# Calculate training and test MSE\n"
   ]
  },
  {
   "cell_type": "markdown",
   "metadata": {},
   "source": [
    "If your test error is substantially worse than the train error, this is a sign that the model doesn't generalize well to future cases."
   ]
  },
  {
   "cell_type": "markdown",
   "metadata": {},
   "source": [
    "One simple way to demonstrate overfitting and underfitting is to alter the size of our train-test split. By default, scikit-learn allocates 25% of the data to the test set and 75% to the training set. Fitting a model on only 10% of the data is apt to lead to underfitting, while training a model on 99% of the data is apt to lead to overfitting."
   ]
  },
  {
   "cell_type": "markdown",
   "metadata": {},
   "source": [
    "# Evaluate the effect of train-test split size\n",
    "\n",
    "Iterate over a range of train-test split sizes from .5 to .95. For each of these, generate a new train/test split sample. Fit a model to the training sample and calculate both the training error and the test error (mse) for each of these splits. Plot these two curves (train error vs. training size and test error vs. training size) on a graph."
   ]
  },
  {
   "cell_type": "code",
   "execution_count": 58,
   "metadata": {},
   "outputs": [
    {
     "data": {
      "text/plain": [
       "array([0.5 , 0.55, 0.6 , 0.65, 0.7 , 0.75, 0.8 , 0.85, 0.9 , 0.95])"
      ]
     },
     "execution_count": 58,
     "metadata": {},
     "output_type": "execute_result"
    }
   ],
   "source": [
    "split_sizes=np.linspace(.5,.95,num =10)\n",
    "split_sizes"
   ]
  },
  {
   "cell_type": "code",
   "execution_count": 69,
   "metadata": {},
   "outputs": [
    {
     "data": {
      "image/png": "[encoded data removed]",
      "text/plain": [
       "<Figure size 432x288 with 1 Axes>"
      ]
     },
     "metadata": {
      "needs_background": "light"
     },
     "output_type": "display_data"
    }
   ],
   "source": [
    "train_mse_list = []\n",
    "test_mse_list = []\n",
    "for size in split_sizes:\n",
    "    # Split the data into training and test sets. \n",
    "    X_train,X_test,y_train,y_test = train_test_split(X,y,test_size=size)\n",
    "    # Fit the model to train data\n",
    "    model = linreg.fit(X_train,y_train)\n",
    "    # Calculate predictions on training and test sets\n",
    "    y_hat_train = model.predict(X_train)\n",
    "    y_hat_test = model.predict(X_test)\n",
    "    # Calculate mean square errors\n",
    "    train_mse = mean_squared_error(y_train,y_hat_train)\n",
    "    test_mse = mean_squared_error(y_test,y_hat_test)    \n",
    "    train_mse_list.append(train_mse) \n",
    "    test_mse_list.append(test_mse) \n",
    "\n",
    "plt.scatter(x=split_sizes,y=train_mse_list,label = 'MSE for training set')\n",
    "plt.scatter(x=split_sizes,y=test_mse_list,label = 'MSE for testing set')\n",
    "plt.xlabel('size of testing set in % of total # of data points')\n",
    "plt.legend()\n",
    "plt.show();"
   ]
  },
  {
   "cell_type": "markdown",
   "metadata": {},
   "source": [
    "# Evaluate the effect of train-test split size: Extension\n",
    "\n",
    "Repeat the previous example, but for each train-test split size, generate 100 iterations of models/errors and save the average train/test error. This will help account for any particularly good/bad models that might have resulted from poor/good splits in the data. "
   ]
  },
  {
   "cell_type": "code",
   "execution_count": 67,
   "metadata": {},
   "outputs": [
    {
     "data": {
      "image/png": "[encoded data removed]",
      "text/plain": [
       "<Figure size 432x288 with 1 Axes>"
      ]
     },
     "metadata": {
      "needs_background": "light"
     },
     "output_type": "display_data"
    }
   ],
   "source": [
    "train_mse_avg_list = []\n",
    "test_mse_avg_list = []\n",
    "for size in split_sizes:\n",
    "    # Split the data into training and test sets. \n",
    "    idx=1\n",
    "    train_mse_list = []\n",
    "    test_mse_list = []\n",
    "    while idx < 101:\n",
    "        X_train,X_test,y_train,y_test = train_test_split(X,y,test_size=size)\n",
    "        # Fit the model to train data\n",
    "        model = linreg.fit(X_train,y_train)\n",
    "        # Calculate predictions on training and test sets\n",
    "        y_hat_train = model.predict(X_train)\n",
    "        y_hat_test = model.predict(X_test)\n",
    "        # Calculate mean square errors\n",
    "        train_mse = mean_squared_error(y_train,y_hat_train)\n",
    "        test_mse = mean_squared_error(y_test,y_hat_test)    \n",
    "        train_mse_list.append(train_mse) \n",
    "        test_mse_list.append(test_mse)\n",
    "        idx+=1\n",
    "    train_mse_avg=np.sum(train_mse_list)/idx\n",
    "    test_mse_avg=np.sum(test_mse_list)/idx\n",
    "    train_mse_avg_list.append(train_mse_avg) \n",
    "    test_mse_avg_list.append(test_mse_avg)        \n",
    "\n",
    "plt.scatter(x=split_sizes,y=train_mse_avg_list,label = 'MSE for training set')\n",
    "plt.scatter(x=split_sizes,y=test_mse_avg_list,label = 'MSE for testing set')\n",
    "plt.xlabel('size of testing set in % of total # of data points')\n",
    "plt.legend()\n",
    "plt.show();"
   ]
  },
  {
   "cell_type": "markdown",
   "metadata": {},
   "source": [
    "What's happening here? Evaluate your result!"
   ]
  },
  {
   "cell_type": "code",
   "execution_count": null,
   "metadata": {},
   "outputs": [],
   "source": [
    "# As the size of the the testing set incresases and becomes larger than 80% of all datapoints, \n",
    "# the size of the training set becomes critically small.\n",
    "# This enables to get artificiallay lower error on the fitting of the model for the training set.\n",
    "# But, at the same time, the model generalization to the test model gets worse \n",
    "# and the errors level of the model's prediction for the test set get much higher. "
   ]
  },
  {
   "cell_type": "markdown",
   "metadata": {},
   "source": [
    "##  Summary "
   ]
  },
  {
   "cell_type": "markdown",
   "metadata": {},
   "source": [
    "Congratulations! You now practiced your knowledge of MSE and used your train-test split skills to validate your model."
   ]
  }
 ],
 "metadata": {
  "kernelspec": {
   "display_name": "Python 3",
   "language": "python",
   "name": "python3"
  },
  "language_info": {
   "codemirror_mode": {
    "name": "ipython",
    "version": 3
   },
   "file_extension": ".py",
   "mimetype": "text/x-python",
   "name": "python",
   "nbconvert_exporter": "python",
   "pygments_lexer": "ipython3",
   "version": "3.6.9"
  }
 },
 "nbformat": 4,
 "nbformat_minor": 2
}
